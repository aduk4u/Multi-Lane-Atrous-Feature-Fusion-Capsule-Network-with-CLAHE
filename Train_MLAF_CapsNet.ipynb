{
 "cells": [
  {
   "cell_type": "code",
   "execution_count": 1,
   "metadata": {},
   "outputs": [],
   "source": [
    "#pip install chart-studio\n",
    "#create a plotly account     #https://plotly.com/python/getting-started-with-chart-studio/\n",
    "from chart_studio.tools import set_config_file\n",
    "set_config_file(plotly_domain=\"https://plotly.com\", plotly_api_domain=\"https://api.plotly.com\")\n"
   ]
  },
  {
   "cell_type": "code",
   "execution_count": null,
   "metadata": {},
   "outputs": [],
   "source": []
  },
  {
   "cell_type": "code",
   "execution_count": null,
   "metadata": {},
   "outputs": [],
   "source": [
    "import os\n",
    "os.environ[\"CUDA_VISIBLE_DEVICES\"]=\"-1\"\n",
    "import plotly\n",
    "import numpy as np\n",
    "import chart_studio\n",
    "\n",
    "\n",
    "from Pneumonia_models.DAF_CapsNet import base_model\n",
    "#from models_sabbour import base_model\n",
    "from train2 import margin_loss\n",
    "import matplotlib.pyplot as plt\n",
    "from hyperparams import *\n",
    "#plotly.tools.set_credentials_file(username= 'pmensah' , api_key= 'FrC8AAZ66YA6Wdk8v5U1')\n",
    "#chart_studio.tools.set_credentials_file(username='pmensah', api_key= 'FrC8AAZ66YA6Wdk8v5U1')\n",
    "#Y21nXq2ib46WqQGGYUM9\n",
    "chart_studio.tools.set_credentials_file(username='username', api_key= 'api_key') ## Insert your \"surname and api-key\"\n",
    "plt.rcParams['axes.linewidth']=1.5\n",
    "plt.rcParams.update({'font.size':14})"
   ]
  },
  {
   "cell_type": "code",
   "execution_count": null,
   "metadata": {},
   "outputs": [],
   "source": [
    "from utils import load_mnist, load_other,load_cifar10, load_fashion_mnist, load_other\n",
    "from hyperparams import * \n",
    "\n",
    "#from Pneumonia_models.BSCapsModel import base_model\n",
    "#from Pneumonia_models.DSG_Caps import base_model\n",
    "#from Pneumonia_models.Squeeze_Caps import base_model\n",
    "\n",
    "#from Pneumonia_models.CapsNet import base_model\n",
    "\n",
    "from Pneumonia_models.DAF_CapsNet import base_model\n",
    "#from Pneumonia_models.BSCapsModel import base_model\n",
    "#from models_sabbour import base_model\n",
    "from train2 import margin_loss\n",
    "# parameters\n",
    "routing = ROUTING\n",
    "model_path = MODEL_PATH\n",
    "#model.path='E:/DeepLearning/envs/myenvs/kobby/SCCapsule/models/Brain Tumor Results/DAF+CLAHE/Segmented Data/No Augmentation/DAF_CapsNet_model'\n",
    "\n",
    "# load data\n",
    "#(x_train, y_train), (x_test, y_test) = load_cifar10()\n",
    "#(x_train, y_train), (x_test, y_test) = load_fashion_mnist()\n",
    "(x_train, y_train), (x_test, y_test) = load_other()\n",
    "\n",
    "x_shape = x_train[0].shape\n",
    "y_shape = y_train[0].shape\n",
    "\n",
    "\n",
    "#x_shape=[x_shape[0],x_shape[1], x_shape[2]]\n",
    "\n",
    "print(x_shape)\n",
    "# define model\n",
    "train_model, decoder, digitcaps_model, pc_model = base_model(input_shape = x_shape, output_shape = y_shape)#in order of creation in models.py\n",
    "#train_model , eval_model, caps_model, decoder, primCap_model = base_model(input_shape = x_shape, output_shape = y_shape)\n",
    "#train_model.load_weights('E:/DeepLearning/envs/myenvs/kobby/SCCapsule/MLAF_No_CLAHE/DAF_CapsNet_model_weights.best')\n",
    "#train_model.load_weights('E:/DeepLearning/envs/myenvs/kobby/SCCapsule/models/weights/DSG_CapsNet_model_weights.best')\n",
    "#train_model.load_weights('DSG_CapsNet_model_weights.best.hdf5')\n"
   ]
  },
  {
   "cell_type": "code",
   "execution_count": null,
   "metadata": {},
   "outputs": [],
   "source": [
    "## Import Model weights"
   ]
  },
  {
   "cell_type": "code",
   "execution_count": null,
   "metadata": {},
   "outputs": [],
   "source": [
    "train_model.load_weights('Brain(MLAF-CapsNet)_weights.best.hdf5')"
   ]
  },
  {
   "cell_type": "code",
   "execution_count": null,
   "metadata": {},
   "outputs": [],
   "source": [
    "## Print Primary Capsule Summary"
   ]
  },
  {
   "cell_type": "code",
   "execution_count": null,
   "metadata": {},
   "outputs": [],
   "source": [
    "pc_model.summary()"
   ]
  },
  {
   "cell_type": "code",
   "execution_count": null,
   "metadata": {},
   "outputs": [],
   "source": [
    "## Print DigitCapss Summary"
   ]
  },
  {
   "cell_type": "code",
   "execution_count": null,
   "metadata": {},
   "outputs": [],
   "source": [
    "digitcaps_model.summary() #Inspect the digitCaps model without decoder"
   ]
  },
  {
   "cell_type": "code",
   "execution_count": null,
   "metadata": {},
   "outputs": [],
   "source": [
    "## Print Decoder Summary"
   ]
  },
  {
   "cell_type": "code",
   "execution_count": null,
   "metadata": {},
   "outputs": [],
   "source": [
    "decoder.summary() #Inspect the decoder model without decoder"
   ]
  },
  {
   "cell_type": "code",
   "execution_count": null,
   "metadata": {},
   "outputs": [],
   "source": [
    "## Import Model"
   ]
  },
  {
   "cell_type": "code",
   "execution_count": null,
   "metadata": {},
   "outputs": [],
   "source": [
    "import os \n",
    "file_paths = [\"Brain(MLAF-CapsNet)_model.h5\"]\n",
    "for file_path in file_paths:\n",
    "    w = os.stat(file_path).st_size\n",
    "    print(\"{:30} {:4.2f} MB\".format(file_path,w/(1024.0**2)))"
   ]
  },
  {
   "cell_type": "code",
   "execution_count": null,
   "metadata": {},
   "outputs": [],
   "source": [
    "## Train and print Confusion Matrix"
   ]
  },
  {
   "cell_type": "code",
   "execution_count": null,
   "metadata": {},
   "outputs": [],
   "source": [
    "\n",
    "from sklearn.metrics import classification_report, confusion_matrix,precision_recall_curve, average_precision_score\n",
    "from sklearn.metrics import roc_curve, auc\n",
    "import pandas as pd\n",
    "\n",
    "import seaborn as sn\n",
    "from sklearn.preprocessing import label_binarize\n",
    "from scipy import interp\n",
    "from scipy.interpolate import interp1d\n",
    "from itertools import cycle\n",
    "\n",
    "\n",
    "## Evaluating the Model\n",
    "y_pred = eval_model.predict(x_test)\n",
    "\n",
    "# Print prediction\n",
    "#print('pred_y',y_pred[:15])\n",
    "#NUM_CLASSES=[0,1,2,3,4]\n",
    "\n",
    "#print(\"y_test\", y_test[:15])\n",
    "\n",
    "\n",
    "y_pred = np.array(y_pred[0])\n",
    "#y_pred=np.array(y_pred)\n",
    "\n",
    "\n",
    "\n",
    "round_pred = y_pred.argmax(axis=1)\n",
    "\n",
    "\n",
    "y_test=np.argmax(y_test, axis=1)\n",
    "\n",
    "cnf_matrix = confusion_matrix(y_test, round_pred)\n",
    "#print(cnf_matrix)\n",
    "\n",
    "#kk = pd.DataFrame(cnf_matrix, range(3), range(3))\n",
    "kk = pd.DataFrame(cnf_matrix, range(NUM_CLASSES), range(NUM_CLASSES))\n",
    "sn.heatmap(kk, annot=True, annot_kws={'size':12}, fmt='g', cmap='Blues')\n",
    "plt.savefig('eye CM plot.jpg', dpi=1200)\n",
    "plt.show()\n",
    "\n",
    "#cnf_matrix = confusion_matrix(y_test, round_pred)\n",
    "    #print(cnf_matrix)\n"
   ]
  },
  {
   "cell_type": "code",
   "execution_count": null,
   "metadata": {},
   "outputs": [],
   "source": [
    "## ROC curves"
   ]
  },
  {
   "cell_type": "code",
   "execution_count": null,
   "metadata": {},
   "outputs": [],
   "source": [
    "\n",
    "# Compute ROC curve and ROC area for each class\n",
    "fpr = dict()\n",
    "tpr = dict()\n",
    "roc_auc = dict()\n",
    "'''\n",
    "\n",
    "\n",
    "\n",
    "    #fpr, tpr, _ = roc_curve(y_test, np.argmax(round_pred, axis=0))\n",
    "    fpr, tpr, _ = roc_curve(y_test, round_pred)\n",
    "    roc_auc = auc(fpr, tpr)\n",
    "\n",
    "    plt.figure(figsize=(11,8))\n",
    "    lw = 10\n",
    "    plt.plot(fpr, tpr, color='darkorange',lw=lw, label='ROC curve (auc = %0.2f)' % roc_auc)\n",
    "    plt.plot([0, 1], [0, 1], color='navy', lw=lw, linestyle='--')\n",
    "    plt.xlim([0.0, 1.0])\n",
    "    plt.ylim([0.0, 1.05])\n",
    "    plt.xlabel('False Positive Rate')\n",
    "    plt.ylabel('True Positive Rate')\n",
    "    plt.title('Receiver operating characteristic')\n",
    "    plt.legend(loc=\"lower right\")\n",
    "    plt.savefig('roc2.png')\n",
    "'''\n",
    "y_test=label_binarize(y_test, classes=[i for i in range(NUM_CLASSES)])\n",
    "# First aggregate all false positive rates\n",
    "print(\"y_test1[:, 1]\",y_test[:, 1])\n",
    "\n",
    "print(\"y_pred.argmax(axis=1)\",y_pred.argmax(axis=1))\n",
    "#hj=y_pred.argmax(axis=1)\n",
    "#hj=label_binarize(round_pred , classes=[i for i in range(NUM_CLASSES)])\n",
    "#print(\"y_pred_linarize\",hj)\n",
    "\n",
    "for i in range(NUM_CLASSES):\n",
    "        fpr[i], tpr[i],threshold = roc_curve(y_test[:, i],  y_pred[:, i])\n",
    "\n",
    "        #print(\"fpr[i]\",fpr[i])\n",
    "        #print(\"tpr[i]\",tpr[i])\n",
    "        #print(\"threshold\", threshold)\n",
    "        roc_auc[i] = auc(fpr[i], tpr[i])\n",
    "\n",
    "    #print(\"y_test.shape\", y_test.shape)\n",
    "    #print(\"hj.shape\",hj.shape)\n",
    "    #print(\"hj1.shape\",hj1.shape)\n",
    "    #print(\"y_test[:,1].shape\", y_test[:,1].shape)\n",
    "\n",
    "    #Compute micro-average ROC curve and ROC area\n",
    "fpr[\"micro\"], tpr[\"micro\"], _ = roc_curve(y_test[:,i].ravel(), y_pred[:, i].ravel())\n",
    "\n",
    "roc_auc[\"micro\"] = auc(fpr[\"micro\"], tpr[\"micro\"])\n",
    "\n",
    "all_fpr = np.unique(np.concatenate([fpr[i] for i in range(NUM_CLASSES)]))\n",
    "\n",
    "# Then interpolate all ROC curves at this points\n",
    "mean_tpr = np.zeros_like(all_fpr)\n",
    "for i in range(NUM_CLASSES):\n",
    "        mean_tpr += interp(all_fpr, fpr[i], tpr[i])\n",
    "\n",
    "    # Finally average it and compute AUC\n",
    "mean_tpr /=NUM_CLASSES\n",
    "\n",
    "fpr[\"macro\"] = all_fpr\n",
    "tpr[\"macro\"] = mean_tpr\n",
    "roc_auc[\"macro\"] = auc(fpr[\"macro\"], tpr[\"macro\"])\n",
    "lw=1.5\n",
    "# Plot all ROC curves\n",
    "plt.figure()\n",
    "plt.figure(figsize=(9, 10))\n",
    "'''\n",
    "    plt.plot(fpr[\"micro\"], tpr[\"micro\"],\n",
    "             label='micro-average ROC curve (area = {0:0.2f})'\n",
    "                   ''.format(roc_auc[\"micro\"]),\n",
    "             color='deeppink', linestyle=':', linewidth=4)\n",
    "\n",
    "    plt.plot(fpr[\"macro\"], tpr[\"macro\"],\n",
    "             label='macro-average ROC curve (area = {0:0.2f})'\n",
    "                   ''.format(roc_auc[\"macro\"]),\n",
    "             color='navy', linestyle=':', linewidth=4)\n",
    "'''\n",
    "colors = cycle(['aqua', 'darkorange', 'cornflowerblue','purple', 'navy', 'teal','turquoise', 'yellow', 'green','red'])\n",
    "\n",
    "for i, color in zip(range(NUM_CLASSES), colors):\n",
    "        #f=interp1d(fpr[i], tpr[i], kind='cubic')\n",
    "        plt.plot(fpr[i], tpr[i], color=color, lw=lw,\n",
    "                 label='ROC curve of class {0} (area = {1:0.2f})'\n",
    "                 ''.format(i, roc_auc[i]))\n",
    "\n",
    "\n",
    "plt.plot([0, 1], [0, 1], 'k--', lw=lw)\n",
    "plt.xlim([0.0, 1.0])\n",
    "plt.ylim([0.0, 1.05])\n",
    "plt.xlabel('False Positive Rate')\n",
    "plt.ylabel('True Positive Rate')\n",
    "plt.title('Some extension of Receiver operating characteristic to multi-class')\n",
    "plt.legend(loc=\"lower right\",prop=dict(size=20), fontsize=20)\n",
    "plt.tight_layout()\n",
    "plt.savefig('eye-ROC plot.jpg', dpi=1200)\n",
    "plt.show()\n",
    "\n",
    "\n",
    "\n",
    "\n",
    "   "
   ]
  },
  {
   "cell_type": "code",
   "execution_count": null,
   "metadata": {},
   "outputs": [],
   "source": [
    "## Precision Recall Curves"
   ]
  },
  {
   "cell_type": "code",
   "execution_count": null,
   "metadata": {},
   "outputs": [],
   "source": [
    "\n",
    "##################################PRECISION RECALL CURVE###############################################################\n",
    "    # For each class\n",
    "precision = dict()\n",
    "recall = dict()\n",
    "average_precision = dict()\n",
    "for i in range(NUM_CLASSES):\n",
    "        precision[i], recall[i], _ = precision_recall_curve(y_test[:, i],  y_pred[:,i])\n",
    "\n",
    "        average_precision[i] = average_precision_score(y_test[:, i], y_pred[:,i])\n",
    "\n",
    "    # A \"micro-average\": quantifying score on all classes jointly\n",
    "precision[\"micro\"], recall[\"micro\"], _ =precision_recall_curve(y_test[:,1].ravel(),y_pred[:, 1].ravel())\n",
    "\n",
    "average_precision[\"micro\"] = average_precision_score(y_test[:,i],y_pred[:,i], average=\"micro\")\n",
    "\n",
    "print('Average precision score, micro-averaged over all classes: {0:0.2f}'\n",
    "          .format(average_precision[\"micro\"]))\n",
    "\n",
    "    # setup plot details\n",
    "colors = cycle(['navy', 'turquoise', 'darkorange', 'cornflowerblue', 'teal','red', 'green', 'purple', 'brown', 'cyan'])\n",
    "\n",
    "plt.figure(figsize=(9, 10))\n",
    "f_scores = np.linspace(0.2, 0.8, num=4)\n",
    "lines = []\n",
    "labels = []\n",
    "for f_score in f_scores:\n",
    "        x = np.linspace(0.01, 1)\n",
    "        y = f_score * x / (2 * x - f_score)\n",
    "        l, = plt.plot(x[y >= 0], y[y >= 0], color='gray', alpha=0.2)\n",
    "        plt.annotate('f1={0:0.1f}'.format(f_score), xy=(0.9, y[45] + 0.02))\n",
    "\n",
    "lines.append(l)\n",
    "labels.append('iso-f1 curves')\n",
    "l, = plt.plot(recall[\"micro\"], precision[\"micro\"], color='gold', lw=2)\n",
    "lines.append(l)\n",
    "    #labels.append('micro-average Precision-recall (area = {0:0.2f})'\n",
    "    #              ''.format(average_precision[\"micro\"]))\n",
    "\n",
    "for i, color in zip(range(NUM_CLASSES), colors):\n",
    "        l, = plt.plot(recall[i], precision[i], color=color, lw=2)\n",
    "        lines.append(l)\n",
    "        labels.append('Precision-recall for class {0} (area = {1:0.2f})'\n",
    "                      ''.format(i, average_precision[i]))\n",
    "\n",
    "fig = plt.gcf()\n",
    "fig.subplots_adjust(bottom=0.25)\n",
    "plt.xlim([0.0, 1.0])\n",
    "plt.ylim([0.0, 1.05])\n",
    "plt.xlabel('Recall')\n",
    "plt.ylabel('Precision')\n",
    "plt.title('Extension of Precision-Recall curve to multi-class')\n",
    "plt.legend(lines, labels, loc=\"lower left\", prop=dict(size=10), fontsize=20)\n",
    "    #(0, -.38)\n",
    "plt.savefig('eye 10-PR plot.jpg', dpi=1200)\n",
    "plt.show()\n"
   ]
  },
  {
   "cell_type": "code",
   "execution_count": null,
   "metadata": {},
   "outputs": [],
   "source": []
  }
 ],
 "metadata": {
  "kernelspec": {
   "display_name": "Python 3",
   "language": "python",
   "name": "python3"
  },
  "language_info": {
   "codemirror_mode": {
    "name": "ipython",
    "version": 3
   },
   "file_extension": ".py",
   "mimetype": "text/x-python",
   "name": "python",
   "nbconvert_exporter": "python",
   "pygments_lexer": "ipython3",
   "version": "3.7.0"
  }
 },
 "nbformat": 4,
 "nbformat_minor": 4
}
